{
  "nbformat": 4,
  "nbformat_minor": 0,
  "metadata": {
    "colab": {
      "provenance": [],
      "authorship_tag": "ABX9TyO9KvsU5yIOf4BezGwSihqh",
      "include_colab_link": true
    },
    "kernelspec": {
      "name": "python3",
      "display_name": "Python 3"
    },
    "language_info": {
      "name": "python"
    }
  },
  "cells": [
    {
      "cell_type": "markdown",
      "metadata": {
        "id": "view-in-github",
        "colab_type": "text"
      },
      "source": [
        "<a href=\"https://colab.research.google.com/github/Minlee01/TechPing-AI/blob/develop/Crawling.ipynb\" target=\"_parent\"><img src=\"https://colab.research.google.com/assets/colab-badge.svg\" alt=\"Open In Colab\"/></a>"
      ]
    },
    {
      "cell_type": "code",
      "execution_count": null,
      "metadata": {
        "id": "WY5XuggQBosT"
      },
      "outputs": [],
      "source": [
        "from google.colab import drive\n",
        "drive.mount('/content/drive')"
      ]
    },
    {
      "cell_type": "code",
      "source": [
        "!pip install selenium\n",
        "!apt-get update\n",
        "\n",
        "# (최초 1회)\n",
        "!apt install chromium-chromedriver\n",
        "!cp /usr/lib/chromium-browser/chromedriver '/content/drive/MyDrive/Colab Notebooks' #\n",
        "!pip install chromedriver-autoinstaller"
      ],
      "metadata": {
        "id": "n2HR05HWBvlJ"
      },
      "execution_count": null,
      "outputs": []
    },
    {
      "cell_type": "code",
      "source": [
        "import selenium\n",
        "from selenium import webdriver\n",
        "from selenium.webdriver.support.ui import WebDriverWait\n",
        "from selenium.webdriver.support import expected_conditions as EC\n",
        "from selenium.webdriver.common.by import By\n",
        "import sys\n",
        "from selenium.webdriver.common.keys import Keys\n",
        "import urllib.request\n",
        "import os\n",
        "from urllib.request import urlretrieve\n",
        "\n",
        "import time\n",
        "import pandas as pd\n",
        "import chromedriver_autoinstaller  # setup chrome options"
      ],
      "metadata": {
        "id": "lsDfc0rFBync"
      },
      "execution_count": null,
      "outputs": []
    },
    {
      "cell_type": "code",
      "source": [
        " chrome_path = \"/content/drive/MyDrive/Colab Notebooks/chromedriver\""
      ],
      "metadata": {
        "id": "XK8jqeNIB59E"
      },
      "execution_count": null,
      "outputs": []
    },
    {
      "cell_type": "code",
      "source": [
        "sys.path.insert(0,chrome_path)\n",
        "chrome_options = webdriver.ChromeOptions()\n",
        "chrome_options.add_argument('--headless') # ensure GUI is off\n",
        "chrome_options.add_argument('--no-sandbox')\n",
        "chrome_options.add_argument('--disable-dev-shm-usage')  # set path to chromedriver as per your configuration\n",
        "chrome_options.add_argument('lang=ko_KR') # 한국어\n",
        "\n",
        "chromedriver_autoinstaller.install()  # set the target URL"
      ],
      "metadata": {
        "id": "t3NDiXKbB8dD"
      },
      "execution_count": null,
      "outputs": []
    },
    {
      "cell_type": "markdown",
      "source": [
        "selenium이용한 동적 크롤링 실행"
      ],
      "metadata": {
        "id": "_8pIDg0iCSWK"
      }
    },
    {
      "cell_type": "code",
      "source": [
        "import json\n",
        "\n",
        "# 웹 드라이버 설정\n",
        "chrome_options.add_argument(\"--start-maximized\")\n",
        "driver = webdriver.Chrome(options=chrome_options)\n",
        "\n",
        "# 웹사이트 열기\n",
        "driver.get(\"http://www.koreabond.co.kr/main/common/common/dic.cmd\")\n",
        "\n",
        "# WebDriverWait 초기화\n",
        "wait = WebDriverWait(driver, 10)  # 최대 10초 대기\n",
        "\n",
        "data = []\n",
        "\n",
        "try:\n",
        "    # 단어 목록 가져오기\n",
        "    words = wait.until(EC.presence_of_all_elements_located((By.CSS_SELECTOR, \"ul.words > li > a\")))\n",
        "\n",
        "    for i in range(len(words)):\n",
        "        try:\n",
        "            # 단어 목록을 매번 다시 가져오기 (StaleElementReferenceException 방지)\n",
        "            words = wait.until(EC.presence_of_all_elements_located((By.CSS_SELECTOR, \"ul.words > li > a\")))\n",
        "            word = words[i]  # 현재 단어 선택\n",
        "\n",
        "            # 스크롤로 단어 위치 조정\n",
        "            driver.execute_script(\"arguments[0].scrollIntoView({block: 'center'});\", word)\n",
        "\n",
        "            # 단어 클릭\n",
        "            word.click()\n",
        "            time.sleep(1)  # 클릭 후 데이터 로드 대기\n",
        "\n",
        "            # 제목과 내용 추출\n",
        "            title = wait.until(EC.presence_of_element_located((By.ID, \"title\"))).text\n",
        "            content = wait.until(EC.presence_of_element_located((By.ID, \"content\"))).text\n",
        "\n",
        "            # 데이터 저장\n",
        "            data.append({\"title\": title, \"content\": content})\n",
        "            print(f\"데이터 추가 확인: {data[-1]}\")  # 추가된 데이터 출력\n",
        "\n",
        "        except Exception as e:\n",
        "            print(f\"Error: {e}\")\n",
        "            continue\n",
        "\n",
        "finally:\n",
        "    # 브라우저 닫기\n",
        "    driver.quit()\n",
        "\n",
        "# 디버깅: 데이터 리스트 내용 확인\n",
        "print(\"데이터 확인:\", data)\n",
        "\n",
        "# JSON 파일로 저장\n",
        "file_path = \"dictionary.json\"\n",
        "if data:  # 데이터가 비어 있지 않은 경우에만 저장\n",
        "    with open(file_path, \"w\", encoding=\"utf-8\") as file:\n",
        "        json.dump(data, file, ensure_ascii=False, indent=4)\n",
        "        print(f\"JSON 파일 저장 완료: {file_path}\")\n",
        "else:\n",
        "    print(\"데이터가 비어 있습니다. JSON 파일을 저장하지 않습니다.\")"
      ],
      "metadata": {
        "id": "FNcQDUdqCGUC"
      },
      "execution_count": null,
      "outputs": []
    },
    {
      "cell_type": "markdown",
      "source": [
        "BeautifulSoup로 정적 크롤링 실행"
      ],
      "metadata": {
        "id": "lGzh8WH0CLxQ"
      }
    },
    {
      "cell_type": "code",
      "source": [
        "import requests\n",
        "from bs4 import BeautifulSoup\n",
        "import json\n",
        "\n",
        "# URL 기본 구성\n",
        "base_url = \"https://www.fsc.go.kr/in090301/view\"\n",
        "\n",
        "# 데이터 저장 리스트\n",
        "data = []\n",
        "\n",
        "# dicId 범위 설정 (예: 1698부터 1925까지)\n",
        "start_id = 1698\n",
        "end_id = 1925\n",
        "\n",
        "for dic_id in range(start_id, end_id + 1):\n",
        "    try:\n",
        "        # 현재 페이지 URL\n",
        "        url = f\"{base_url}?dicId={dic_id}&curPage=1\"\n",
        "        print(f\"크롤링 중: {url}\")\n",
        "\n",
        "        # 페이지 요청\n",
        "        response = requests.get(url)\n",
        "        response.raise_for_status()\n",
        "\n",
        "        # BeautifulSoup로 HTML 파싱\n",
        "        soup = BeautifulSoup(response.text, \"html.parser\")\n",
        "\n",
        "        # 제목과 내용 크롤링\n",
        "        title = soup.select_one(\"div.subject\").get_text(strip=True) if soup.select_one(\"div.subject\") else \"제목 없음\"\n",
        "        content = soup.select_one(\"div.cont\").get_text(strip=True) if soup.select_one(\"div.cont\") else \"내용 없음\"\n",
        "\n",
        "        # 데이터 저장\n",
        "        data.append({\n",
        "            \"dicId\": dic_id,\n",
        "            \"title\": title,\n",
        "            \"content\": content\n",
        "        })\n",
        "        print(f\"추출 완료: {title}\")\n",
        "\n",
        "    except Exception as e:\n",
        "        print(f\"Error at dicId {dic_id}: {e}\")\n",
        "        continue\n",
        "\n",
        "# JSON 파일 저장\n",
        "file_path = \"dictionary_v2.json\"\n",
        "with open(file_path, \"w\", encoding=\"utf-8\") as file:\n",
        "    json.dump(data, file, ensure_ascii=False, indent=4)\n",
        "    print(f\"JSON 파일 저장 완료: {file_path}\")\n"
      ],
      "metadata": {
        "id": "2zLrTjYVCKtz"
      },
      "execution_count": null,
      "outputs": []
    },
    {
      "cell_type": "markdown",
      "source": [
        "전에 생성된 파일 합침"
      ],
      "metadata": {
        "id": "1Gxu129lCdFY"
      }
    },
    {
      "cell_type": "code",
      "source": [
        "file1 = \"dictionary.json\"\n",
        "file2 = \"dictionary_v2.json\"\n",
        "\n",
        "import json\n",
        "\n",
        "def load_json(file_path):\n",
        "    try:\n",
        "        with open(file_path, \"r\", encoding=\"utf-8\") as file:\n",
        "            return json.load(file)\n",
        "    except FileNotFoundError:\n",
        "        print(f\"파일을 찾을 수 없습니다: {file_path}\")\n",
        "        return []\n",
        "\n",
        "def merge_dictionaries(file1, file2, output_file):\n",
        "    # JSON 데이터 로드\n",
        "    data1 = load_json(file1)\n",
        "    data2 = load_json(file2)\n",
        "\n",
        "    # 최종 데이터를 저장할 딕셔너리\n",
        "    final_data = []\n",
        "    # 중복 확인을 위한 제목 저장소\n",
        "    title_set = set()\n",
        "\n",
        "    # 첫 번째 JSON 데이터 추가\n",
        "    for item in data1:\n",
        "        title = item[\"title\"]\n",
        "        content = item.get(\"content\", \"\")\n",
        "        if title not in title_set:\n",
        "            final_data.append({\"title\": title, \"content\": content})\n",
        "            title_set.add(title)\n",
        "\n",
        "    # 두 번째 JSON 데이터 추가 (중복 제외)\n",
        "    for item in data2:\n",
        "        title = item[\"title\"]\n",
        "        if title not in title_set:\n",
        "            final_data.append({\"title\": title, \"content\": content})\n",
        "            title_set.add(title)\n",
        "\n",
        "    # JSON 파일로 저장\n",
        "    with open(output_file, \"w\", encoding=\"utf-8\") as file:\n",
        "        json.dump(final_data, file, ensure_ascii=False, indent=4)\n",
        "    print(f\"{output_file} 파일이 생성되었습니다.\")\n",
        "\n",
        "# 실행\n",
        "merge_dictionaries(\"dictionary.json\", \"dictionary_v2.json\", \"dictionary_final.json\")"
      ],
      "metadata": {
        "id": "8IvjHk6rCbbK"
      },
      "execution_count": null,
      "outputs": []
    }
  ]
}